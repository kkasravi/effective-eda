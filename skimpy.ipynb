{
 "cells": [
  {
   "cell_type": "code",
   "execution_count": 1,
   "id": "d1fd1a16-4992-4b1d-b2a8-95a2a3dc0680",
   "metadata": {},
   "outputs": [],
   "source": [
    "import seaborn as sns\n",
    "from skimpy import skim"
   ]
  },
  {
   "cell_type": "code",
   "execution_count": 2,
   "id": "f84bb927-7afe-4d60-b22e-821f0c3f3e18",
   "metadata": {},
   "outputs": [
    {
     "data": {
      "text/html": [
       "<pre style=\"white-space:pre;overflow-x:auto;line-height:normal;font-family:Menlo,'DejaVu Sans Mono',consolas,'Courier New',monospace\">╭───────────────────────────────────── skimpy summary ──────────────────────────────────────╮\n",
       "│ <span style=\"font-style: italic\">         Data Summary         </span> <span style=\"font-style: italic\">      Data Types       </span> <span style=\"font-style: italic\">       Categories        </span>          │\n",
       "│ ┏━━━━━━━━━━━━━━━━━━━┳━━━━━━━━┓ ┏━━━━━━━━━━━━━┳━━━━━━━┓ ┏━━━━━━━━━━━━━━━━━━━━━━━┓          │\n",
       "│ ┃<span style=\"color: #008080; text-decoration-color: #008080; font-weight: bold\"> dataframe         </span>┃<span style=\"color: #008080; text-decoration-color: #008080; font-weight: bold\"> Values </span>┃ ┃<span style=\"color: #008080; text-decoration-color: #008080; font-weight: bold\"> Column Type </span>┃<span style=\"color: #008080; text-decoration-color: #008080; font-weight: bold\"> Count </span>┃ ┃<span style=\"color: #008080; text-decoration-color: #008080; font-weight: bold\"> Categorical Variables </span>┃          │\n",
       "│ ┡━━━━━━━━━━━━━━━━━━━╇━━━━━━━━┩ ┡━━━━━━━━━━━━━╇━━━━━━━┩ ┡━━━━━━━━━━━━━━━━━━━━━━━┩          │\n",
       "│ │ Number of rows    │ 53940  │ │ float64     │ 6     │ │ cut                   │          │\n",
       "│ │ Number of columns │ 10     │ │ category    │ 3     │ │ color                 │          │\n",
       "│ └───────────────────┴────────┘ │ int64       │ 1     │ │ clarity               │          │\n",
       "│                                └─────────────┴───────┘ └───────────────────────┘          │\n",
       "│ <span style=\"font-style: italic\">                                         number                                         </span>  │\n",
       "│ ┏━━━━━━━━┳━━━━━━━━━━┳━━━━━━━━━━━━━━━━┳━━━━━━┳━━━━━━┳━━━━━┳━━━━━┳━━━━━━┳━━━━━━━┳━━━━━━━━┓  │\n",
       "│ ┃<span style=\"font-weight: bold\">        </span>┃<span style=\"font-weight: bold\"> missing  </span>┃<span style=\"font-weight: bold\"> complete rate  </span>┃<span style=\"font-weight: bold\"> mean </span>┃<span style=\"font-weight: bold\"> sd   </span>┃<span style=\"font-weight: bold\"> p0  </span>┃<span style=\"font-weight: bold\"> p25 </span>┃<span style=\"font-weight: bold\"> p75  </span>┃<span style=\"font-weight: bold\"> p100  </span>┃<span style=\"font-weight: bold\"> hist   </span>┃  │\n",
       "│ ┡━━━━━━━━╇━━━━━━━━━━╇━━━━━━━━━━━━━━━━╇━━━━━━╇━━━━━━╇━━━━━╇━━━━━╇━━━━━━╇━━━━━━━╇━━━━━━━━┩  │\n",
       "│ │ <span style=\"color: #af87ff; text-decoration-color: #af87ff\">carat </span> │ <span style=\"color: #008080; text-decoration-color: #008080\">       0</span> │ <span style=\"color: #008080; text-decoration-color: #008080\">             1</span> │ <span style=\"color: #008080; text-decoration-color: #008080\"> 0.8</span> │ <span style=\"color: #008080; text-decoration-color: #008080\">0.47</span> │ <span style=\"color: #008080; text-decoration-color: #008080\">0.2</span> │ <span style=\"color: #008080; text-decoration-color: #008080\">0.4</span> │ <span style=\"color: #008080; text-decoration-color: #008080\">   1</span> │ <span style=\"color: #008080; text-decoration-color: #008080\">    5</span> │ <span style=\"color: #008000; text-decoration-color: #008000\">  █▃  </span> │  │\n",
       "│ │ <span style=\"color: #af87ff; text-decoration-color: #af87ff\">depth </span> │ <span style=\"color: #008080; text-decoration-color: #008080\">       0</span> │ <span style=\"color: #008080; text-decoration-color: #008080\">             1</span> │ <span style=\"color: #008080; text-decoration-color: #008080\">  62</span> │ <span style=\"color: #008080; text-decoration-color: #008080\"> 1.4</span> │ <span style=\"color: #008080; text-decoration-color: #008080\"> 43</span> │ <span style=\"color: #008080; text-decoration-color: #008080\"> 61</span> │ <span style=\"color: #008080; text-decoration-color: #008080\">  62</span> │ <span style=\"color: #008080; text-decoration-color: #008080\">   79</span> │ <span style=\"color: #008000; text-decoration-color: #008000\">   ▂█ </span> │  │\n",
       "│ │ <span style=\"color: #af87ff; text-decoration-color: #af87ff\">table </span> │ <span style=\"color: #008080; text-decoration-color: #008080\">       0</span> │ <span style=\"color: #008080; text-decoration-color: #008080\">             1</span> │ <span style=\"color: #008080; text-decoration-color: #008080\">  57</span> │ <span style=\"color: #008080; text-decoration-color: #008080\"> 2.2</span> │ <span style=\"color: #008080; text-decoration-color: #008080\"> 43</span> │ <span style=\"color: #008080; text-decoration-color: #008080\"> 56</span> │ <span style=\"color: #008080; text-decoration-color: #008080\">  59</span> │ <span style=\"color: #008080; text-decoration-color: #008080\">   95</span> │ <span style=\"color: #008000; text-decoration-color: #008000\">  █▁  </span> │  │\n",
       "│ │ <span style=\"color: #af87ff; text-decoration-color: #af87ff\">price </span> │ <span style=\"color: #008080; text-decoration-color: #008080\">       0</span> │ <span style=\"color: #008080; text-decoration-color: #008080\">             1</span> │ <span style=\"color: #008080; text-decoration-color: #008080\">3900</span> │ <span style=\"color: #008080; text-decoration-color: #008080\">4000</span> │ <span style=\"color: #008080; text-decoration-color: #008080\">330</span> │ <span style=\"color: #008080; text-decoration-color: #008080\">950</span> │ <span style=\"color: #008080; text-decoration-color: #008080\">5300</span> │ <span style=\"color: #008080; text-decoration-color: #008080\">19000</span> │ <span style=\"color: #008000; text-decoration-color: #008000\"> █▃▁▁ </span> │  │\n",
       "│ │ <span style=\"color: #af87ff; text-decoration-color: #af87ff\">x     </span> │ <span style=\"color: #008080; text-decoration-color: #008080\">       0</span> │ <span style=\"color: #008080; text-decoration-color: #008080\">             1</span> │ <span style=\"color: #008080; text-decoration-color: #008080\"> 5.7</span> │ <span style=\"color: #008080; text-decoration-color: #008080\"> 1.1</span> │ <span style=\"color: #008080; text-decoration-color: #008080\">  0</span> │ <span style=\"color: #008080; text-decoration-color: #008080\">4.7</span> │ <span style=\"color: #008080; text-decoration-color: #008080\"> 6.5</span> │ <span style=\"color: #008080; text-decoration-color: #008080\">   11</span> │ <span style=\"color: #008000; text-decoration-color: #008000\">  ██▂ </span> │  │\n",
       "│ │ <span style=\"color: #af87ff; text-decoration-color: #af87ff\">y     </span> │ <span style=\"color: #008080; text-decoration-color: #008080\">       0</span> │ <span style=\"color: #008080; text-decoration-color: #008080\">             1</span> │ <span style=\"color: #008080; text-decoration-color: #008080\"> 5.7</span> │ <span style=\"color: #008080; text-decoration-color: #008080\"> 1.1</span> │ <span style=\"color: #008080; text-decoration-color: #008080\">  0</span> │ <span style=\"color: #008080; text-decoration-color: #008080\">4.7</span> │ <span style=\"color: #008080; text-decoration-color: #008080\"> 6.5</span> │ <span style=\"color: #008080; text-decoration-color: #008080\">   59</span> │ <span style=\"color: #008000; text-decoration-color: #008000\">  █   </span> │  │\n",
       "│ │ <span style=\"color: #af87ff; text-decoration-color: #af87ff\">z     </span> │ <span style=\"color: #008080; text-decoration-color: #008080\">       0</span> │ <span style=\"color: #008080; text-decoration-color: #008080\">             1</span> │ <span style=\"color: #008080; text-decoration-color: #008080\"> 3.5</span> │ <span style=\"color: #008080; text-decoration-color: #008080\">0.71</span> │ <span style=\"color: #008080; text-decoration-color: #008080\">  0</span> │ <span style=\"color: #008080; text-decoration-color: #008080\">2.9</span> │ <span style=\"color: #008080; text-decoration-color: #008080\">   4</span> │ <span style=\"color: #008080; text-decoration-color: #008080\">   32</span> │ <span style=\"color: #008000; text-decoration-color: #008000\">  █   </span> │  │\n",
       "│ └────────┴──────────┴────────────────┴──────┴──────┴─────┴─────┴──────┴───────┴────────┘  │\n",
       "│ <span style=\"font-style: italic\">                                        category                                        </span>  │\n",
       "│ ┏━━━━━━━━━━━━━━━┳━━━━━━━━━━━━━━━┳━━━━━━━━━━━━━━━━━━━━━━━━━┳━━━━━━━━━━━━━━━┳━━━━━━━━━━━━┓  │\n",
       "│ ┃<span style=\"font-weight: bold\">               </span>┃<span style=\"font-weight: bold\"> missing       </span>┃<span style=\"font-weight: bold\"> complete rate           </span>┃<span style=\"font-weight: bold\"> ordered       </span>┃<span style=\"font-weight: bold\"> unique     </span>┃  │\n",
       "│ ┡━━━━━━━━━━━━━━━╇━━━━━━━━━━━━━━━╇━━━━━━━━━━━━━━━━━━━━━━━━━╇━━━━━━━━━━━━━━━╇━━━━━━━━━━━━┩  │\n",
       "│ │ <span style=\"color: #af87ff; text-decoration-color: #af87ff\">cut          </span> │ <span style=\"color: #008080; text-decoration-color: #008080\">            0</span> │ <span style=\"color: #008080; text-decoration-color: #008080\">                      1</span> │ <span style=\"color: #00d7ff; text-decoration-color: #00d7ff\">False        </span> │ <span style=\"color: #008080; text-decoration-color: #008080\">         5</span> │  │\n",
       "│ │ <span style=\"color: #af87ff; text-decoration-color: #af87ff\">color        </span> │ <span style=\"color: #008080; text-decoration-color: #008080\">            0</span> │ <span style=\"color: #008080; text-decoration-color: #008080\">                      1</span> │ <span style=\"color: #00d7ff; text-decoration-color: #00d7ff\">False        </span> │ <span style=\"color: #008080; text-decoration-color: #008080\">         7</span> │  │\n",
       "│ │ <span style=\"color: #af87ff; text-decoration-color: #af87ff\">clarity      </span> │ <span style=\"color: #008080; text-decoration-color: #008080\">            0</span> │ <span style=\"color: #008080; text-decoration-color: #008080\">                      1</span> │ <span style=\"color: #00d7ff; text-decoration-color: #00d7ff\">False        </span> │ <span style=\"color: #008080; text-decoration-color: #008080\">         8</span> │  │\n",
       "│ └───────────────┴───────────────┴─────────────────────────┴───────────────┴────────────┘  │\n",
       "╰─────────────────────────────────────────── End ───────────────────────────────────────────╯\n",
       "</pre>\n"
      ],
      "text/plain": [
       "╭───────────────────────────────────── skimpy summary ──────────────────────────────────────╮\n",
       "│ \u001b[3m         Data Summary         \u001b[0m \u001b[3m      Data Types       \u001b[0m \u001b[3m       Categories        \u001b[0m          │\n",
       "│ ┏━━━━━━━━━━━━━━━━━━━┳━━━━━━━━┓ ┏━━━━━━━━━━━━━┳━━━━━━━┓ ┏━━━━━━━━━━━━━━━━━━━━━━━┓          │\n",
       "│ ┃\u001b[1;36m \u001b[0m\u001b[1;36mdataframe        \u001b[0m\u001b[1;36m \u001b[0m┃\u001b[1;36m \u001b[0m\u001b[1;36mValues\u001b[0m\u001b[1;36m \u001b[0m┃ ┃\u001b[1;36m \u001b[0m\u001b[1;36mColumn Type\u001b[0m\u001b[1;36m \u001b[0m┃\u001b[1;36m \u001b[0m\u001b[1;36mCount\u001b[0m\u001b[1;36m \u001b[0m┃ ┃\u001b[1;36m \u001b[0m\u001b[1;36mCategorical Variables\u001b[0m\u001b[1;36m \u001b[0m┃          │\n",
       "│ ┡━━━━━━━━━━━━━━━━━━━╇━━━━━━━━┩ ┡━━━━━━━━━━━━━╇━━━━━━━┩ ┡━━━━━━━━━━━━━━━━━━━━━━━┩          │\n",
       "│ │ Number of rows    │ 53940  │ │ float64     │ 6     │ │ cut                   │          │\n",
       "│ │ Number of columns │ 10     │ │ category    │ 3     │ │ color                 │          │\n",
       "│ └───────────────────┴────────┘ │ int64       │ 1     │ │ clarity               │          │\n",
       "│                                └─────────────┴───────┘ └───────────────────────┘          │\n",
       "│ \u001b[3m                                         number                                         \u001b[0m  │\n",
       "│ ┏━━━━━━━━┳━━━━━━━━━━┳━━━━━━━━━━━━━━━━┳━━━━━━┳━━━━━━┳━━━━━┳━━━━━┳━━━━━━┳━━━━━━━┳━━━━━━━━┓  │\n",
       "│ ┃\u001b[1m \u001b[0m\u001b[1m      \u001b[0m\u001b[1m \u001b[0m┃\u001b[1m \u001b[0m\u001b[1mmissing \u001b[0m\u001b[1m \u001b[0m┃\u001b[1m \u001b[0m\u001b[1mcomplete rate \u001b[0m\u001b[1m \u001b[0m┃\u001b[1m \u001b[0m\u001b[1mmean\u001b[0m\u001b[1m \u001b[0m┃\u001b[1m \u001b[0m\u001b[1msd  \u001b[0m\u001b[1m \u001b[0m┃\u001b[1m \u001b[0m\u001b[1mp0 \u001b[0m\u001b[1m \u001b[0m┃\u001b[1m \u001b[0m\u001b[1mp25\u001b[0m\u001b[1m \u001b[0m┃\u001b[1m \u001b[0m\u001b[1mp75 \u001b[0m\u001b[1m \u001b[0m┃\u001b[1m \u001b[0m\u001b[1mp100 \u001b[0m\u001b[1m \u001b[0m┃\u001b[1m \u001b[0m\u001b[1mhist  \u001b[0m\u001b[1m \u001b[0m┃  │\n",
       "│ ┡━━━━━━━━╇━━━━━━━━━━╇━━━━━━━━━━━━━━━━╇━━━━━━╇━━━━━━╇━━━━━╇━━━━━╇━━━━━━╇━━━━━━━╇━━━━━━━━┩  │\n",
       "│ │ \u001b[38;5;141mcarat \u001b[0m │ \u001b[36m       0\u001b[0m │ \u001b[36m             1\u001b[0m │ \u001b[36m 0.8\u001b[0m │ \u001b[36m0.47\u001b[0m │ \u001b[36m0.2\u001b[0m │ \u001b[36m0.4\u001b[0m │ \u001b[36m   1\u001b[0m │ \u001b[36m    5\u001b[0m │ \u001b[32m  █▃  \u001b[0m │  │\n",
       "│ │ \u001b[38;5;141mdepth \u001b[0m │ \u001b[36m       0\u001b[0m │ \u001b[36m             1\u001b[0m │ \u001b[36m  62\u001b[0m │ \u001b[36m 1.4\u001b[0m │ \u001b[36m 43\u001b[0m │ \u001b[36m 61\u001b[0m │ \u001b[36m  62\u001b[0m │ \u001b[36m   79\u001b[0m │ \u001b[32m   ▂█ \u001b[0m │  │\n",
       "│ │ \u001b[38;5;141mtable \u001b[0m │ \u001b[36m       0\u001b[0m │ \u001b[36m             1\u001b[0m │ \u001b[36m  57\u001b[0m │ \u001b[36m 2.2\u001b[0m │ \u001b[36m 43\u001b[0m │ \u001b[36m 56\u001b[0m │ \u001b[36m  59\u001b[0m │ \u001b[36m   95\u001b[0m │ \u001b[32m  █▁  \u001b[0m │  │\n",
       "│ │ \u001b[38;5;141mprice \u001b[0m │ \u001b[36m       0\u001b[0m │ \u001b[36m             1\u001b[0m │ \u001b[36m3900\u001b[0m │ \u001b[36m4000\u001b[0m │ \u001b[36m330\u001b[0m │ \u001b[36m950\u001b[0m │ \u001b[36m5300\u001b[0m │ \u001b[36m19000\u001b[0m │ \u001b[32m █▃▁▁ \u001b[0m │  │\n",
       "│ │ \u001b[38;5;141mx     \u001b[0m │ \u001b[36m       0\u001b[0m │ \u001b[36m             1\u001b[0m │ \u001b[36m 5.7\u001b[0m │ \u001b[36m 1.1\u001b[0m │ \u001b[36m  0\u001b[0m │ \u001b[36m4.7\u001b[0m │ \u001b[36m 6.5\u001b[0m │ \u001b[36m   11\u001b[0m │ \u001b[32m  ██▂ \u001b[0m │  │\n",
       "│ │ \u001b[38;5;141my     \u001b[0m │ \u001b[36m       0\u001b[0m │ \u001b[36m             1\u001b[0m │ \u001b[36m 5.7\u001b[0m │ \u001b[36m 1.1\u001b[0m │ \u001b[36m  0\u001b[0m │ \u001b[36m4.7\u001b[0m │ \u001b[36m 6.5\u001b[0m │ \u001b[36m   59\u001b[0m │ \u001b[32m  █   \u001b[0m │  │\n",
       "│ │ \u001b[38;5;141mz     \u001b[0m │ \u001b[36m       0\u001b[0m │ \u001b[36m             1\u001b[0m │ \u001b[36m 3.5\u001b[0m │ \u001b[36m0.71\u001b[0m │ \u001b[36m  0\u001b[0m │ \u001b[36m2.9\u001b[0m │ \u001b[36m   4\u001b[0m │ \u001b[36m   32\u001b[0m │ \u001b[32m  █   \u001b[0m │  │\n",
       "│ └────────┴──────────┴────────────────┴──────┴──────┴─────┴─────┴──────┴───────┴────────┘  │\n",
       "│ \u001b[3m                                        category                                        \u001b[0m  │\n",
       "│ ┏━━━━━━━━━━━━━━━┳━━━━━━━━━━━━━━━┳━━━━━━━━━━━━━━━━━━━━━━━━━┳━━━━━━━━━━━━━━━┳━━━━━━━━━━━━┓  │\n",
       "│ ┃\u001b[1m \u001b[0m\u001b[1m             \u001b[0m\u001b[1m \u001b[0m┃\u001b[1m \u001b[0m\u001b[1mmissing      \u001b[0m\u001b[1m \u001b[0m┃\u001b[1m \u001b[0m\u001b[1mcomplete rate          \u001b[0m\u001b[1m \u001b[0m┃\u001b[1m \u001b[0m\u001b[1mordered      \u001b[0m\u001b[1m \u001b[0m┃\u001b[1m \u001b[0m\u001b[1munique    \u001b[0m\u001b[1m \u001b[0m┃  │\n",
       "│ ┡━━━━━━━━━━━━━━━╇━━━━━━━━━━━━━━━╇━━━━━━━━━━━━━━━━━━━━━━━━━╇━━━━━━━━━━━━━━━╇━━━━━━━━━━━━┩  │\n",
       "│ │ \u001b[38;5;141mcut          \u001b[0m │ \u001b[36m            0\u001b[0m │ \u001b[36m                      1\u001b[0m │ \u001b[38;5;45mFalse        \u001b[0m │ \u001b[36m         5\u001b[0m │  │\n",
       "│ │ \u001b[38;5;141mcolor        \u001b[0m │ \u001b[36m            0\u001b[0m │ \u001b[36m                      1\u001b[0m │ \u001b[38;5;45mFalse        \u001b[0m │ \u001b[36m         7\u001b[0m │  │\n",
       "│ │ \u001b[38;5;141mclarity      \u001b[0m │ \u001b[36m            0\u001b[0m │ \u001b[36m                      1\u001b[0m │ \u001b[38;5;45mFalse        \u001b[0m │ \u001b[36m         8\u001b[0m │  │\n",
       "│ └───────────────┴───────────────┴─────────────────────────┴───────────────┴────────────┘  │\n",
       "╰─────────────────────────────────────────── End ───────────────────────────────────────────╯\n"
      ]
     },
     "metadata": {},
     "output_type": "display_data"
    }
   ],
   "source": [
    "df = sns.load_dataset('diamonds')\n",
    "skim(df)"
   ]
  },
  {
   "cell_type": "code",
   "execution_count": null,
   "id": "8f707f70-f808-41fa-abf4-830e02b02c4f",
   "metadata": {},
   "outputs": [],
   "source": []
  }
 ],
 "metadata": {
  "kernelspec": {
   "display_name": "effective-eda",
   "language": "python",
   "name": "effective-eda"
  },
  "language_info": {
   "codemirror_mode": {
    "name": "ipython",
    "version": 3
   },
   "file_extension": ".py",
   "mimetype": "text/x-python",
   "name": "python",
   "nbconvert_exporter": "python",
   "pygments_lexer": "ipython3",
   "version": "3.8.12"
  }
 },
 "nbformat": 4,
 "nbformat_minor": 5
}
